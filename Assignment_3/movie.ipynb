{
 "cells": [
  {
   "cell_type": "code",
   "execution_count": 4,
   "metadata": {},
   "outputs": [],
   "source": [
    "import pandas as pd\n",
    "import numpy as np"
   ]
  },
  {
   "cell_type": "code",
   "execution_count": 6,
   "metadata": {},
   "outputs": [
    {
     "data": {
      "text/html": [
       "<div>\n",
       "<style scoped>\n",
       "    .dataframe tbody tr th:only-of-type {\n",
       "        vertical-align: middle;\n",
       "    }\n",
       "\n",
       "    .dataframe tbody tr th {\n",
       "        vertical-align: top;\n",
       "    }\n",
       "\n",
       "    .dataframe thead th {\n",
       "        text-align: right;\n",
       "    }\n",
       "</style>\n",
       "<table border=\"1\" class=\"dataframe\">\n",
       "  <thead>\n",
       "    <tr style=\"text-align: right;\">\n",
       "      <th></th>\n",
       "      <th>movie</th>\n",
       "      <th>review</th>\n",
       "    </tr>\n",
       "  </thead>\n",
       "  <tbody>\n",
       "    <tr>\n",
       "      <th>0</th>\n",
       "      <td>The Lord of the Rings The Two Towers</td>\n",
       "      <td>remarkable display of fantasy action powerful ...</td>\n",
       "    </tr>\n",
       "    <tr>\n",
       "      <th>1</th>\n",
       "      <td>Inception</td>\n",
       "      <td>implanting stealing idea destroy gripping acti...</td>\n",
       "    </tr>\n",
       "    <tr>\n",
       "      <th>2</th>\n",
       "      <td>Spiderman Across the spider verse</td>\n",
       "      <td>mind bending wild action sequences intimate em...</td>\n",
       "    </tr>\n",
       "    <tr>\n",
       "      <th>3</th>\n",
       "      <td>The Dark Knight</td>\n",
       "      <td>Best live action portrayal beat organized crim...</td>\n",
       "    </tr>\n",
       "    <tr>\n",
       "      <th>4</th>\n",
       "      <td>Three colors red</td>\n",
       "      <td>mesmerising friendship turned love profound un...</td>\n",
       "    </tr>\n",
       "    <tr>\n",
       "      <th>5</th>\n",
       "      <td>It happened one night</td>\n",
       "      <td>Romantic comedy screwball comedy enduring tale...</td>\n",
       "    </tr>\n",
       "    <tr>\n",
       "      <th>6</th>\n",
       "      <td>In the Mood for Love</td>\n",
       "      <td>Neighbors solace bonding affair predicament sp...</td>\n",
       "    </tr>\n",
       "    <tr>\n",
       "      <th>7</th>\n",
       "      <td>Before Sunrise</td>\n",
       "      <td>blossoming love know each other chance encount...</td>\n",
       "    </tr>\n",
       "    <tr>\n",
       "      <th>8</th>\n",
       "      <td>Gone with the wind</td>\n",
       "      <td>epic romance greatest romantic film ever made ...</td>\n",
       "    </tr>\n",
       "    <tr>\n",
       "      <th>9</th>\n",
       "      <td>Eternal Sunshine of the Spotless Mind</td>\n",
       "      <td>Length people go finding love of life emotiona...</td>\n",
       "    </tr>\n",
       "    <tr>\n",
       "      <th>10</th>\n",
       "      <td>The Shawshank Redemption</td>\n",
       "      <td>movie about friendship life fight to be good p...</td>\n",
       "    </tr>\n",
       "    <tr>\n",
       "      <th>11</th>\n",
       "      <td>Raging Bull</td>\n",
       "      <td>brutal boxing sports movie turbulent life outs...</td>\n",
       "    </tr>\n",
       "    <tr>\n",
       "      <th>12</th>\n",
       "      <td>Lawrence of Arabia</td>\n",
       "      <td>classic adventure war movie psychological dram...</td>\n",
       "    </tr>\n",
       "  </tbody>\n",
       "</table>\n",
       "</div>"
      ],
      "text/plain": [
       "                                    movie  \\\n",
       "0    The Lord of the Rings The Two Towers   \n",
       "1                               Inception   \n",
       "2       Spiderman Across the spider verse   \n",
       "3                         The Dark Knight   \n",
       "4                        Three colors red   \n",
       "5                   It happened one night   \n",
       "6                    In the Mood for Love   \n",
       "7                          Before Sunrise   \n",
       "8                      Gone with the wind   \n",
       "9   Eternal Sunshine of the Spotless Mind   \n",
       "10               The Shawshank Redemption   \n",
       "11                            Raging Bull   \n",
       "12                     Lawrence of Arabia   \n",
       "\n",
       "                                               review  \n",
       "0   remarkable display of fantasy action powerful ...  \n",
       "1   implanting stealing idea destroy gripping acti...  \n",
       "2   mind bending wild action sequences intimate em...  \n",
       "3   Best live action portrayal beat organized crim...  \n",
       "4   mesmerising friendship turned love profound un...  \n",
       "5   Romantic comedy screwball comedy enduring tale...  \n",
       "6   Neighbors solace bonding affair predicament sp...  \n",
       "7   blossoming love know each other chance encount...  \n",
       "8   epic romance greatest romantic film ever made ...  \n",
       "9   Length people go finding love of life emotiona...  \n",
       "10  movie about friendship life fight to be good p...  \n",
       "11  brutal boxing sports movie turbulent life outs...  \n",
       "12  classic adventure war movie psychological dram...  "
      ]
     },
     "execution_count": 6,
     "metadata": {},
     "output_type": "execute_result"
    }
   ],
   "source": [
    "# Read the movie review dataset\n",
    "data = pd.read_csv(\"moviereviews.csv\")\n",
    "data"
   ]
  },
  {
   "cell_type": "code",
   "execution_count": 14,
   "metadata": {},
   "outputs": [],
   "source": [
    "def load_movie_data(file_path):\n",
    "    return pd.read_csv(file_path)[\"movie\"].tolist()"
   ]
  },
  {
   "cell_type": "code",
   "execution_count": 15,
   "metadata": {},
   "outputs": [],
   "source": [
    "\n",
    "def generate_random_vector(dimensions):\n",
    "    return np.random.rand(dimensions)"
   ]
  },
  {
   "cell_type": "code",
   "execution_count": 16,
   "metadata": {},
   "outputs": [],
   "source": [
    "def calculate_angle_similarity(vector1, vector2):\n",
    "    return np.arccos(np.dot(vector1, vector2) / (np.linalg.norm(vector1) * np.linalg.norm(vector2)))\n"
   ]
  },
  {
   "cell_type": "code",
   "execution_count": 17,
   "metadata": {},
   "outputs": [],
   "source": [
    "\n",
    "def find_top_similar_movies(movie_vectors, num_top_pairs):\n",
    "    movie_combinations = combinations(movie_vectors.keys(), 2)\n",
    "    similar_movies = [(movie1, movie2, calculate_angle_similarity(movie_vectors[movie1], movie_vectors[movie2]))\n",
    "                      for movie1, movie2 in movie_combinations]\n",
    "    return sorted(similar_movies, key=lambda x: x[2])[:num_top_pairs]"
   ]
  },
  {
   "cell_type": "code",
   "execution_count": 23,
   "metadata": {},
   "outputs": [],
   "source": [
    "movie_data_file = \"moviereviews.csv\"  # Replace with your actual CSV file\n",
    "num_dimensions = 300\n",
    "num_top_pairs = 3\n"
   ]
  },
  {
   "cell_type": "code",
   "execution_count": 21,
   "metadata": {},
   "outputs": [
    {
     "data": {
      "text/plain": [
       "[('Gone with the wind',\n",
       "  'Eternal Sunshine of the Spotless Mind',\n",
       "  0.659631838619004),\n",
       " ('Gone with the wind', 'Raging Bull', 0.6621445781455537),\n",
       " ('The Shawshank Redemption', 'Raging Bull', 0.6751293570623005)]"
      ]
     },
     "execution_count": 21,
     "metadata": {},
     "output_type": "execute_result"
    }
   ],
   "source": [
    "\n",
    "movies = load_movie_data(movie_data_file)\n",
    "movie_vectors = {movie: generate_random_vector(num_dimensions) for movie in movies}\n",
    "top_similar_movies = find_top_similar_movies(movie_vectors, num_top_pairs)\n",
    "\n",
    "top_similar_movies\n",
    "\n"
   ]
  },
  {
   "cell_type": "code",
   "execution_count": 20,
   "metadata": {},
   "outputs": [
    {
     "name": "stdout",
     "output_type": "stream",
     "text": [
      "Top similar movie pairs:\n",
      "Movies 'The Dark Knight' and 'Raging Bull' with angle similarity of 0.66 radians.\n",
      "Movies 'Spiderman Across the spider verse' and 'Raging Bull' with angle similarity of 0.66 radians.\n",
      "Movies 'Inception' and 'In the Mood for Love' with angle similarity of 0.66 radians.\n"
     ]
    }
   ],
   "source": [
    "print(\"Top similar movie pairs:\")\n",
    "\n",
    "for movie1, movie2, angle in top_similar_movies:\n",
    "    print(f\"Movies '{movie1}' and '{movie2}' with angle similarity of {angle:.2f} radians.\")"
   ]
  }
 ],
 "metadata": {
  "kernelspec": {
   "display_name": "pycaretenv",
   "language": "python",
   "name": "python3"
  },
  "language_info": {
   "codemirror_mode": {
    "name": "ipython",
    "version": 3
   },
   "file_extension": ".py",
   "mimetype": "text/x-python",
   "name": "python",
   "nbconvert_exporter": "python",
   "pygments_lexer": "ipython3",
   "version": "3.9.17"
  },
  "orig_nbformat": 4
 },
 "nbformat": 4,
 "nbformat_minor": 2
}
