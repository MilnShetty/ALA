{
  "cells": [
    {
      "cell_type": "code",
      "execution_count": 1,
      "metadata": {
        "colab": {
          "base_uri": "https://localhost:8080/"
        },
        "id": "BZLeh7V3Pfha",
        "outputId": "1a6b9d31-fe12-4771-842d-452d796418a7"
      },
      "outputs": [
        {
          "name": "stderr",
          "output_type": "stream",
          "text": [
            "C:\\Users\\MILAN\\AppData\\Local\\Temp\\ipykernel_24144\\1680757352.py:6: MatplotlibDeprecationWarning: The seaborn styles shipped by Matplotlib are deprecated since 3.6, as they no longer correspond to the styles shipped by seaborn. However, they will remain available as 'seaborn-v0_8-<style>'. Alternatively, directly use the seaborn API instead.\n",
            "  plt.style.use('seaborn-whitegrid')\n"
          ]
        }
      ],
      "source": [
        "## Load libraries\n",
        "import pandas as pd\n",
        "import numpy as np\n",
        "import sys\n",
        "import matplotlib.pyplot as plt\n",
        "plt.style.use('seaborn-whitegrid')\n",
        "%matplotlib inline"
      ]
    },
    {
      "cell_type": "code",
      "execution_count": 4,
      "metadata": {
        "colab": {
          "base_uri": "https://localhost:8080/"
        },
        "id": "idkQrPrmWlFo",
        "outputId": "e272a3a9-002c-48ec-d76d-a32ab148f461"
      },
      "outputs": [],
      "source": [
        "## Mount Google drive folder if running in Colab\n",
        "if('google.colab' in sys.modules):\n",
        "    from google.colab import drive\n",
        "    drive.mount('/content/drive', force_remount = True)\n",
        "    DIR = '/content/drive/MyDrive/Colab Notebooks/MAHE/MSIS Coursework/OddSem2023MAHE'\n",
        "    DATA_DIR = DIR + '/Data/'\n",
        "else:\n",
        "    DATA_DIR = 'D:/ME AIML2023/ALA/Bootcamp/Data'"
      ]
    },
    {
      "cell_type": "markdown",
      "metadata": {
        "id": "ApvJ8zBLck_n"
      },
      "source": [
        "**Problem-1**: we will reconstruct missing values in a real ECG signal. To that end, first load the ECG signal data and make a component plot of the loaded ECG vector by executing the cell below. Note the missing values:"
      ]
    },
    {
      "cell_type": "code",
      "execution_count": 7,
      "metadata": {
        "colab": {
          "base_uri": "https://localhost:8080/",
          "height": 403
        },
        "id": "8cVYlzEYc69z",
        "outputId": "d061d2a1-837d-4b23-db2f-268939ba4f67"
      },
      "outputs": [
        {
          "data": {
            "image/png": "[encoded data removed]",
            "text/plain": [
              "<Figure size 600x400 with 1 Axes>"
            ]
          },
          "metadata": {},
          "output_type": "display_data"
        }
      ],
      "source": [
        "## Load data\n",
        "FILE = 'D:/ME AIML2023/ALA/Bootcamp/Data/ecg_missing.txt'\n",
        "df_ecg = pd.read_csv(FILE, header = None, names = ['ecgvalues'])\n",
        "df_ecg['ecgvalues'] = df_ecg['ecgvalues'].astype(float)\n",
        "## Component plot of the ecg signal\n",
        "fig, ax = plt.subplots(1, 1, figsize = (6, 4))\n",
        "component_index = range(0, len(df_ecg['ecgvalues']))\n",
        "ax.scatter(component_index, df_ecg['ecgvalues'], color = 'black', marker = 'o', s = 5)\n",
        "ax.set_xlabel('Sample Number')\n",
        "ax.set_ylabel('Normalized Voltage')\n",
        "ax.set_title('ECG Signal With Missing Values');"
      ]
    },
    {
      "cell_type": "markdown",
      "metadata": {
        "id": "BuoV4blCd9K_"
      },
      "source": [
        "**Problem-1.1**: extract the indices corresponding to the missing ECG values"
      ]
    },
    {
      "cell_type": "code",
      "execution_count": 10,
      "metadata": {
        "id": "Wb3_JNOJeDNA"
      },
      "outputs": [],
      "source": [
        "indices_unknown = df_ecg[df_ecg['ecgvalues'].isna()].index"
      ]
    },
    {
      "cell_type": "markdown",
      "metadata": {
        "id": "n3ClAgkceJYF"
      },
      "source": [
        "**Problem-1.2**: extract the indices corresponding to the known ECG values"
      ]
    },
    {
      "cell_type": "code",
      "execution_count": 11,
      "metadata": {
        "id": "4xasYnZGeJtn"
      },
      "outputs": [
        {
          "data": {
            "text/plain": [
              "Index([  0,   2,   4,   5,   8,  10,  11,  12,  13,  16,  17,  19,  22,  27,\n",
              "        31,  33,  36,  37,  39,  40,  42,  44,  45,  46,  51,  53,  55,  57,\n",
              "        58,  59,  61,  62,  63,  64,  65,  69,  70,  72,  73,  75,  76,  78,\n",
              "        79,  80,  81,  82,  83,  85,  88,  89,  92,  95,  99, 100, 102, 106,\n",
              "       107, 108, 109, 112, 113, 115, 116, 118, 122, 124, 125, 126, 127, 129,\n",
              "       131, 133, 134, 136, 139, 140, 142, 143, 146, 147, 149, 156, 159, 160,\n",
              "       164, 167, 168, 169, 175, 176, 177, 179, 182, 183, 186, 188, 189, 194,\n",
              "       196, 199],\n",
              "      dtype='int64')"
            ]
          },
          "execution_count": 11,
          "metadata": {},
          "output_type": "execute_result"
        }
      ],
      "source": [
        "indices_known = df_ecg[df_ecg['ecgvalues'].notna()].index\n",
        "indices_known"
      ]
    },
    {
      "cell_type": "markdown",
      "metadata": {
        "id": "hDVvkkrZefNN"
      },
      "source": [
        "**Problem-1.3**: build a vector of known ecg signal values"
      ]
    },
    {
      "cell_type": "code",
      "execution_count": 9,
      "metadata": {
        "id": "0BFdUzYmemfZ"
      },
      "outputs": [
        {
          "data": {
            "text/plain": [
              "array([-1.4374358e-02, -1.2637355e-02, -1.0812403e-02, -9.8533655e-03,\n",
              "       -6.5482859e-03, -3.7513235e-03, -2.0578644e-03, -9.4258541e-05,\n",
              "        2.2061528e-03,  1.1933259e-02,  1.6432082e-02,  2.7900408e-02,\n",
              "        5.2836413e-02,  1.1955439e-01,  1.8927629e-01,  2.2432987e-01,\n",
              "        2.6819605e-01,  2.7884396e-01,  2.9247613e-01,  2.9511999e-01,\n",
              "        2.9169886e-01,  2.7691699e-01,  2.6566740e-01,  2.5236573e-01,\n",
              "        1.6913212e-01,  1.3481272e-01,  1.0374964e-01,  7.7566183e-02,\n",
              "        6.6488692e-02,  5.6786325e-02,  4.1356533e-02,  3.5450843e-02,\n",
              "        3.0563746e-02,  2.6503058e-02,  2.3035374e-02,  7.1758438e-03,\n",
              "       -1.8258006e-03, -3.2324290e-02, -5.4580566e-02, -1.0887994e-01,\n",
              "       -1.3214744e-01, -1.4281210e-01, -1.1800725e-01, -6.4454915e-02,\n",
              "        2.2472551e-02,  1.4558586e-01,  3.0343132e-01,  6.8578156e-01,\n",
              "        1.1362935e+00,  1.1638875e+00,  8.1561486e-01,  2.0040482e-01,\n",
              "       -2.4972163e-01, -2.6991059e-01, -2.3291409e-01, -6.9188851e-02,\n",
              "       -4.0812834e-02, -1.9693044e-02, -5.0618669e-03,  1.4485705e-02,\n",
              "        1.7770773e-02,  2.3284489e-02,  2.6155665e-02,  3.2829151e-02,\n",
              "        5.0889297e-02,  6.3005381e-02,  6.9973961e-02,  7.7599182e-02,\n",
              "        8.5915456e-02,  1.0469540e-01,  1.2652063e-01,  1.5147148e-01,\n",
              "        1.6509076e-01,  1.9445387e-01,  2.4295458e-01,  2.5999633e-01,\n",
              "        2.9477565e-01,  3.1230032e-01,  3.6379256e-01,  3.7999389e-01,\n",
              "        4.0997177e-01,  4.7569035e-01,  4.7927649e-01,  4.7661451e-01,\n",
              "        4.4797768e-01,  4.1118984e-01,  3.9669695e-01,  3.8130464e-01,\n",
              "        2.7736858e-01,  2.5934078e-01,  2.4146379e-01,  2.0669431e-01,\n",
              "        1.5900379e-01,  1.4471095e-01,  1.0680190e-01,  8.5757717e-02,\n",
              "        7.6497085e-02,  4.2016967e-02,  3.3077217e-02,  2.3651358e-02])"
            ]
          },
          "execution_count": 9,
          "metadata": {},
          "output_type": "execute_result"
        }
      ],
      "source": [
        "x_known = df_ecg['ecgvalues'].values[indices_known]\n",
        "x_known"
      ]
    },
    {
      "cell_type": "markdown",
      "metadata": {
        "id": "xoJAmNgde3__"
      },
      "source": [
        "**Probem-1.4**: construct the matrices $S_1$ and $S_2.$"
      ]
    },
    {
      "cell_type": "code",
      "execution_count": 14,
      "metadata": {
        "id": "sHnIiJ5ze6er"
      },
      "outputs": [
        {
          "data": {
            "text/plain": [
              "array([[0., 0., 0., ..., 0., 0., 0.],\n",
              "       [1., 0., 0., ..., 0., 0., 0.],\n",
              "       [0., 0., 0., ..., 0., 0., 0.],\n",
              "       ...,\n",
              "       [0., 0., 0., ..., 0., 1., 0.],\n",
              "       [0., 0., 0., ..., 0., 0., 1.],\n",
              "       [0., 0., 0., ..., 0., 0., 0.]])"
            ]
          },
          "execution_count": 14,
          "metadata": {},
          "output_type": "execute_result"
        }
      ],
      "source": [
        "I = np.eye(len(df_ecg))\n",
        "S1 = I[:, indices_known]\n",
        "S2 = I[:, indices_unknown]\n",
        "S1\n",
        "S2"
      ]
    },
    {
      "cell_type": "markdown",
      "metadata": {
        "id": "Psu7jdXug02-"
      },
      "source": [
        "**Problem-1.5**: build the matrix $D$"
      ]
    },
    {
      "cell_type": "code",
      "execution_count": 15,
      "metadata": {
        "id": "2i7i2-0hg3jV"
      },
      "outputs": [
        {
          "ename": "NameError",
          "evalue": "name 'diagonal_values' is not defined",
          "output_type": "error",
          "traceback": [
            "\u001b[1;31m---------------------------------------------------------------------------\u001b[0m",
            "\u001b[1;31mNameError\u001b[0m                                 Traceback (most recent call last)",
            "\u001b[1;32md:\\ME AIML2023\\ALA\\Bootcamp\\ALA_Bootcamp_OddSemester2023_CodingAssignment2.ipynb Cell 14\u001b[0m line \u001b[0;36m7\n\u001b[0;32m      <a href='vscode-notebook-cell:/d%3A/ME%20AIML2023/ALA/Bootcamp/ALA_Bootcamp_OddSemester2023_CodingAssignment2.ipynb#X16sZmlsZQ%3D%3D?line=4'>5</a>\u001b[0m off_diagonal_values_upper \u001b[39m=\u001b[39m np\u001b[39m.\u001b[39marray([\u001b[39m-\u001b[39m\u001b[39m1\u001b[39m] \u001b[39m*\u001b[39m (n \u001b[39m-\u001b[39m \u001b[39m1\u001b[39m))\n\u001b[0;32m      <a href='vscode-notebook-cell:/d%3A/ME%20AIML2023/ALA/Bootcamp/ALA_Bootcamp_OddSemester2023_CodingAssignment2.ipynb#X16sZmlsZQ%3D%3D?line=5'>6</a>\u001b[0m off_diagonal_values_lower \u001b[39m=\u001b[39m np\u001b[39m.\u001b[39marray([\u001b[39m-\u001b[39m\u001b[39m1\u001b[39m] \u001b[39m*\u001b[39m (n \u001b[39m-\u001b[39m \u001b[39m1\u001b[39m))\n\u001b[1;32m----> <a href='vscode-notebook-cell:/d%3A/ME%20AIML2023/ALA/Bootcamp/ALA_Bootcamp_OddSemester2023_CodingAssignment2.ipynb#X16sZmlsZQ%3D%3D?line=6'>7</a>\u001b[0m D \u001b[39m=\u001b[39m np\u001b[39m.\u001b[39mdiag(diagonal_values) \u001b[39m+\u001b[39m np\u001b[39m.\u001b[39mdiag(off_diagonal_values_upper, k\u001b[39m=\u001b[39m\u001b[39m1\u001b[39m) \u001b[39m+\u001b[39m np\u001b[39m.\u001b[39mdiag(off_diagonal_values_lower, k\u001b[39m=\u001b[39m\u001b[39m-\u001b[39m\u001b[39m1\u001b[39m)\n\u001b[0;32m      <a href='vscode-notebook-cell:/d%3A/ME%20AIML2023/ALA/Bootcamp/ALA_Bootcamp_OddSemester2023_CodingAssignment2.ipynb#X16sZmlsZQ%3D%3D?line=7'>8</a>\u001b[0m diagonal_values \u001b[39m=\u001b[39m np\u001b[39m.\u001b[39marray([\u001b[39m2\u001b[39m] \u001b[39m*\u001b[39m n)\n\u001b[0;32m      <a href='vscode-notebook-cell:/d%3A/ME%20AIML2023/ALA/Bootcamp/ALA_Bootcamp_OddSemester2023_CodingAssignment2.ipynb#X16sZmlsZQ%3D%3D?line=8'>9</a>\u001b[0m D\n",
            "\u001b[1;31mNameError\u001b[0m: name 'diagonal_values' is not defined"
          ]
        }
      ],
      "source": [
        "n = len(df_ecg) # size of the signal\n",
        "a = 1*np.ones(n-1)\n",
        "b = -2\n",
        "D = np.diag(a, -1) + np.diag(b * np.ones(n),0) + np.diag(a, 1)\n",
        "off_diagonal_values_upper = np.array([-1] * (n - 1))\n",
        "off_diagonal_values_lower = np.array([-1] * (n - 1))\n",
        "D = np.diag(diagonal_values) + np.diag(off_diagonal_values_upper, k=1) + np.diag(off_diagonal_values_lower, k=-1)\n",
        "diagonal_values = np.array([2] * n)\n",
        "D"
      ]
    },
    {
      "cell_type": "markdown",
      "metadata": {
        "id": "jVci5yMGhns3"
      },
      "source": [
        "Reconstruct the missing values such that the resulting ECG signal is smooth (we will do this part during the lab session)."
      ]
    },
    {
      "cell_type": "code",
      "execution_count": null,
      "metadata": {
        "id": "XoOf1u_6hukK"
      },
      "outputs": [],
      "source": []
    },
    {
      "cell_type": "markdown",
      "metadata": {
        "id": "6dLoYwjiW06M"
      },
      "source": [
        "**Problem-2**: consider an $n$-vector $x$ of time series values. The following code snippet simulates such as vector. Try three different cycle frequency values (0.5, 1.0, 2.0) in the variable f below and observe what happens to the component plot of the vector."
      ]
    },
    {
      "cell_type": "code",
      "execution_count": null,
      "metadata": {
        "id": "7WXHABBTXAt8"
      },
      "outputs": [],
      "source": [
        "t_start = 0 # start time in sec\n",
        "t_end = 2 # end time in sec\n",
        "t = np.linspace(t_start, t_end+1e-03, 100) # timestamps\n",
        "f =   # cycle frequency\n",
        "omega = 2 * np.pi * f # angular frequency\n",
        "x = np.sin(omega*np.sin(0.5*omega*t))\n",
        "fig, ax2 = plt.subplots(1, 1, figsize = (6, 6))\n",
        "fig.tight_layout(pad = 4.0)\n",
        "ax2.plot(t, x,)\n",
        "ax2.set_xlabel('t')\n",
        "ax2.set_ylabel('x(t)')\n",
        "ax2.set_title('Time series data');"
      ]
    },
    {
      "cell_type": "markdown",
      "metadata": {
        "id": "qaTGZ4iyXHoq"
      },
      "source": [
        "**Problem 2.1**: In order to measure how rough or wiggly a signal represented by a vector is, we measure the so called *Dirichlet energy* of the signal which for the vector $x$ we saw above is defined as:\n",
        "\n",
        "$$(x_2-x_1)^2+(x_3-x_2)^2+\\cdots+(x_{100}-x_{99})^2.$$\n",
        "\n",
        "Calculate the Dirichlet energy of the vector $x$ for the three different frequency values mentioned above. How do the values compare to each other?\n",
        "\n",
        "Use the following clue:\n",
        "\n",
        "Dirichlet energy of $x = \\lVert Dx\\lVert_2^2,$ where $D$ is the matrix $$\\begin{bmatrix}-1 & ? & ? &\\cdots&?&?\\\\0 & ? & 1 &\\cdots&?&?\\\\? & ? & ? &\\cdots&?&?\\\\ &  & \\vdots &\\vdots&&\\\\? & ? & ? &\\cdots&-1&?\\end{bmatrix}.$$"
      ]
    },
    {
      "cell_type": "code",
      "execution_count": null,
      "metadata": {
        "id": "h1DAQ6GecRgx"
      },
      "outputs": [],
      "source": []
    }
  ],
  "metadata": {
    "colab": {
      "provenance": []
    },
    "kernelspec": {
      "display_name": "Python 3",
      "name": "python3"
    },
    "language_info": {
      "codemirror_mode": {
        "name": "ipython",
        "version": 3
      },
      "file_extension": ".py",
      "mimetype": "text/x-python",
      "name": "python",
      "nbconvert_exporter": "python",
      "pygments_lexer": "ipython3",
      "version": "3.9.17"
    }
  },
  "nbformat": 4,
  "nbformat_minor": 0
}
